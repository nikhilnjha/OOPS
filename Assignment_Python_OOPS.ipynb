{
  "nbformat": 4,
  "nbformat_minor": 0,
  "metadata": {
    "colab": {
      "provenance": []
    },
    "kernelspec": {
      "name": "python3",
      "display_name": "Python 3"
    },
    "language_info": {
      "name": "python"
    }
  },
  "cells": [
    {
      "cell_type": "markdown",
      "source": [
        "# Theory"
      ],
      "metadata": {
        "id": "98UELCGfPlD6"
      }
    },
    {
      "cell_type": "markdown",
      "source": [
        "1. What is Object-Oriented Programming (OOP)?"
      ],
      "metadata": {
        "id": "iUFg8ubAP3W6"
      }
    },
    {
      "cell_type": "markdown",
      "source": [
        "# Practicals"
      ],
      "metadata": {
        "id": "35vD__D9PqJI"
      }
    },
    {
      "cell_type": "markdown",
      "source": [
        "1. Create a parent class Animal with a method speak() that prints a generic message. Create a child class Dog that overrides the speak() method to print Bark!\"."
      ],
      "metadata": {
        "id": "2zObHcUrQGkY"
      }
    },
    {
      "cell_type": "code",
      "execution_count": 7,
      "metadata": {
        "colab": {
          "base_uri": "https://localhost:8080/"
        },
        "id": "6jJupju8PZ2v",
        "outputId": "e797eeea-f165-4456-f722-746279f94abd"
      },
      "outputs": [
        {
          "output_type": "stream",
          "name": "stdout",
          "text": [
            "Bark!\n"
          ]
        }
      ],
      "source": [
        "class Animal:\n",
        "  def speak(self):\n",
        "    print(\"Animal sound\")\n",
        "\n",
        "class Dog(Animal):\n",
        "  def speak(self):\n",
        "    print(\"Bark!\")\n",
        "\n",
        "\n",
        "dog = Dog()\n",
        "dog.speak()"
      ]
    },
    {
      "cell_type": "markdown",
      "source": [
        "2. Write a program to create an abstract class Shape with a method area(). Derive classes Circle and Rectangle from it and implement the area() method in both."
      ],
      "metadata": {
        "id": "UN1pYtcqTcRF"
      }
    },
    {
      "cell_type": "code",
      "source": [
        "class Shapes:\n",
        "  def area(self):\n",
        "    if self.__class__.__name__ == \"Circle\":\n",
        "      return 3.14 * self.radius * self.radius\n",
        "    elif self.__class__.__name__ == \"Rectangle\":\n",
        "      return self.width * self.height\n",
        "\n",
        "class Circle(Shapes):\n",
        "  def __init__(self, radius):\n",
        "    self.radius = radius\n",
        "\n",
        "class Rectangle(Shapes):\n",
        "  def __init__(self, width, height):\n",
        "    self.width = width\n",
        "    self.height = height\n",
        "\n",
        "circle = Circle(10)\n",
        "print(\"Circle area:\", circle.area())\n",
        "\n",
        "rectangle = Rectangle(2, 10)\n",
        "print(\"Rectangle area:\", rectangle.area())\n"
      ],
      "metadata": {
        "colab": {
          "base_uri": "https://localhost:8080/"
        },
        "id": "lhCNrnR9QiE7",
        "outputId": "7691080a-4aae-420a-bceb-45a694d8ddbe"
      },
      "execution_count": 13,
      "outputs": [
        {
          "output_type": "stream",
          "name": "stdout",
          "text": [
            "Circle area: 314.0\n",
            "Rectangle area: 20\n"
          ]
        }
      ]
    },
    {
      "cell_type": "markdown",
      "source": [
        "3. Implement a multi-level inheritance scenario where a class Vehicle has an attribute type. Derive a class Car and further derive a class Electric Car that adds a battery attribute."
      ],
      "metadata": {
        "id": "qNqUFWYmW8nK"
      }
    },
    {
      "cell_type": "code",
      "source": [
        "class Vehicle:\n",
        "    def __init__(self, type):\n",
        "        self.type = type\n",
        "\n",
        "    def info(self):\n",
        "        print(f\"Vehicle Type: {self.type}\")\n",
        "\n",
        "class Car(Vehicle):\n",
        "    def __init__(self, type, model):\n",
        "        super().__init__(type)\n",
        "        self.model = model\n",
        "\n",
        "    def info(self):\n",
        "        super().info()\n",
        "        print(f\"Car Model: {self.model}\")\n",
        "\n",
        "class ElectricCar(Car):\n",
        "    def __init__(self, type, model, battery_capacity):\n",
        "        super().__init__(type, model)\n",
        "        self.battery_capacity = battery_capacity\n",
        "\n",
        "    def info(self):\n",
        "        super().info()\n",
        "        print(f\"Battery Capacity: {self.battery_capacity} kWh\")\n",
        "\n",
        "# Example usage:\n",
        "vehicle = Vehicle(\"General Vehicle\")\n",
        "vehicle.info()\n",
        "print()\n",
        "\n",
        "car = Car(\"SUV\", \"Honda Elevate\")\n",
        "car.info()\n",
        "print()\n",
        "\n",
        "electric_car = ElectricCar(\"Sedan\", \"MG EZ\", 120)\n",
        "electric_car.info()"
      ],
      "metadata": {
        "colab": {
          "base_uri": "https://localhost:8080/"
        },
        "id": "s_cGpSYgWdV0",
        "outputId": "685e237e-6ae9-48bb-a7b0-8ae4f33261c1"
      },
      "execution_count": 15,
      "outputs": [
        {
          "output_type": "stream",
          "name": "stdout",
          "text": [
            "Vehicle Type: General Vehicle\n",
            "\n",
            "Vehicle Type: SUV\n",
            "Car Model: Honda Elevate\n",
            "\n",
            "Vehicle Type: Sedan\n",
            "Car Model: MG EZ\n",
            "Battery Capacity: 120 kWh\n"
          ]
        }
      ]
    },
    {
      "cell_type": "markdown",
      "source": [
        "4. Demonstrate polymorphism by creating a base class Bird with a method fly(). Create two derived classes Sparrow and Penguin that override the fly() method."
      ],
      "metadata": {
        "id": "jOwa3zwRYMpa"
      }
    },
    {
      "cell_type": "code",
      "source": [
        "class Bird:\n",
        "  def fly(self):\n",
        "    print(\"Bird is flying\")\n",
        "\n",
        "class Sparrow(Bird):\n",
        "  def fly(self):\n",
        "    print(\"Sparrow is flying\")\n",
        "\n",
        "class Penguin(Bird):\n",
        "  def fly(self):\n",
        "    print(\"Penguin is not flying\")"
      ],
      "metadata": {
        "id": "_c86y2YjYHS1"
      },
      "execution_count": 1,
      "outputs": []
    },
    {
      "cell_type": "markdown",
      "source": [
        "5. Write a program to demonstrate encapsulation by creating a class Bank Account with private attributes balance and methods to deposit, withdraw, and check balance."
      ],
      "metadata": {
        "id": "w9t2a0lq-Oa8"
      }
    },
    {
      "cell_type": "code",
      "source": [
        "class BankAccount:\n",
        "    def __init__(self, initial_balance=0):\n",
        "        self.__balance = initial_balance\n",
        "\n",
        "    def deposit(self, amount):\n",
        "        if amount > 0:\n",
        "            self.__balance += amount\n",
        "            print(\"Deposit successful. New balance:\", self.__balance)\n",
        "        else:\n",
        "            print(\"Invalid deposit amount.\")\n",
        "\n",
        "    def withdraw(self, amount):\n",
        "        if 0 < amount <= self.__balance:\n",
        "            self.__balance -= amount\n",
        "            print(\"Withdrawal successful. New balance:\", self.__balance)\n",
        "        else:\n",
        "            print(\"Insufficient funds or invalid withdrawal amount.\")\n",
        "\n",
        "    def check_balance(self):\n",
        "        print(\"Current balance:\", self.__balance)\n",
        "\n",
        "# Example usage\n",
        "account = BankAccount(1000)\n",
        "account.deposit(500)\n",
        "account.withdraw(200)\n",
        "account.check_balance()\n",
        "account.withdraw(2000)"
      ],
      "metadata": {
        "colab": {
          "base_uri": "https://localhost:8080/"
        },
        "id": "koHOTGhz-ZuU",
        "outputId": "cbd29edc-79f4-45d8-815f-2ef913b52b09"
      },
      "execution_count": 3,
      "outputs": [
        {
          "output_type": "stream",
          "name": "stdout",
          "text": [
            "Deposit successful. New balance: 1500\n",
            "Withdrawal successful. New balance: 1300\n",
            "Current balance: 1300\n",
            "Insufficient funds or invalid withdrawal amount.\n"
          ]
        }
      ]
    },
    {
      "cell_type": "markdown",
      "source": [
        "6. Demonstrate runtime polymorphism using a method play() in a base class Instrument. Derive classes Guitar and Piano that implement their own version of play()"
      ],
      "metadata": {
        "id": "6_3LEVQO-cwV"
      }
    },
    {
      "cell_type": "code",
      "source": [
        "class Instrument:\n",
        "    def play(self):\n",
        "        print(\"Playing an instrument\")\n",
        "\n",
        "class Guitar(Instrument):\n",
        "    def play(self):\n",
        "        print(\"Playing the guitar\")\n",
        "\n",
        "class Piano(Instrument):\n",
        "    def play(self):\n",
        "        print(\"Playing the piano\")\n",
        "\n",
        "# Example usage\n",
        "instrument = Instrument()\n",
        "instrument.play()  # Output: Playing an instrument\n",
        "\n",
        "guitar = Guitar()\n",
        "guitar.play()  # Output: Playing the guitar\n",
        "\n",
        "piano = Piano()\n",
        "piano.play()  # Output: Playing the piano\n",
        "\n",
        "instruments = [Instrument(), Guitar(), Piano()]\n",
        "for instrument in instruments:\n",
        "    instrument.play()"
      ],
      "metadata": {
        "colab": {
          "base_uri": "https://localhost:8080/"
        },
        "id": "BjPS-zKU-trI",
        "outputId": "d80eddb9-c007-4d7e-fa96-cbb619b8a372"
      },
      "execution_count": 4,
      "outputs": [
        {
          "output_type": "stream",
          "name": "stdout",
          "text": [
            "Playing an instrument\n",
            "Playing the guitar\n",
            "Playing the piano\n",
            "Playing an instrument\n",
            "Playing the guitar\n",
            "Playing the piano\n"
          ]
        }
      ]
    },
    {
      "cell_type": "markdown",
      "source": [
        "7. Create a class Math Operations with a class method add_numbers() to add two numbers and a static method subtract_numbers() to subtract two numbers."
      ],
      "metadata": {
        "id": "eT-qb9jD-xGf"
      }
    },
    {
      "cell_type": "code",
      "source": [
        "class math_operations:\n",
        "  @classmethod\n",
        "  def add_numbers(cls, a, b):\n",
        "    return a + b\n",
        "\n",
        "  @staticmethod\n",
        "  def subtract_numbers(a, b):\n",
        "    return a - b\n",
        "\n",
        "print(math_operations.add_numbers(10, 5))\n",
        "print(math_operations.subtract_numbers(10, 5))"
      ],
      "metadata": {
        "colab": {
          "base_uri": "https://localhost:8080/"
        },
        "id": "5ZY6IyOV-_To",
        "outputId": "ada67d17-dd99-4e27-8fff-837876752795"
      },
      "execution_count": 7,
      "outputs": [
        {
          "output_type": "stream",
          "name": "stdout",
          "text": [
            "15\n",
            "5\n"
          ]
        }
      ]
    },
    {
      "cell_type": "markdown",
      "source": [
        "8. Implement a class Person with a class method to count the total number of persons created."
      ],
      "metadata": {
        "id": "4OkT3GpG_OOJ"
      }
    },
    {
      "cell_type": "code",
      "source": [
        "class Person:\n",
        "  count = 0\n",
        "\n",
        "  def __init__(self):\n",
        "    Person.count += 1\n",
        "\n",
        "  @classmethod\n",
        "  def get_count(cls):\n",
        "    return cls.count\n",
        "\n",
        "person1 = Person()\n",
        "person2 = Person()\n",
        "person3 = Person()\n",
        "\n",
        "print(Person.get_count())"
      ],
      "metadata": {
        "colab": {
          "base_uri": "https://localhost:8080/"
        },
        "id": "Ke-aQUSy-vju",
        "outputId": "126b15e6-5cbb-4671-a1bd-7515f95d5971"
      },
      "execution_count": 9,
      "outputs": [
        {
          "output_type": "stream",
          "name": "stdout",
          "text": [
            "3\n"
          ]
        }
      ]
    },
    {
      "cell_type": "markdown",
      "source": [
        "9. Write a class Fraction with attributes numerator and denominator. Override the str method to display the fraction as \"numerator/denominator\"."
      ],
      "metadata": {
        "id": "Sh0p62Y9_ZPF"
      }
    },
    {
      "cell_type": "code",
      "source": [
        "class Fraction:\n",
        "    def __init__(self, numerator, denominator):\n",
        "        if denominator == 0:\n",
        "            raise ValueError(\"Denominator cannot be zero\")\n",
        "        self.numerator = numerator\n",
        "        self.denominator = denominator\n",
        "\n",
        "    def __str__(self):\n",
        "        return f\"{self.numerator}/{self.denominator}\"\n",
        "\n",
        "\n",
        "fraction = Fraction(3, 4)\n",
        "print(fraction)"
      ],
      "metadata": {
        "colab": {
          "base_uri": "https://localhost:8080/"
        },
        "id": "iUgH4ms3_vnH",
        "outputId": "0f9101d7-3cdd-4c1b-9de2-a7de7113ec8e"
      },
      "execution_count": 14,
      "outputs": [
        {
          "output_type": "stream",
          "name": "stdout",
          "text": [
            "3/4\n"
          ]
        }
      ]
    },
    {
      "cell_type": "markdown",
      "source": [
        "10. Demonstrate operator overloading by creating a class Vector and overriding the add method to add two vectors."
      ],
      "metadata": {
        "id": "t2gyBJrY_ykC"
      }
    },
    {
      "cell_type": "code",
      "source": [
        "class Vector:\n",
        "    def __init__(self, x, y):\n",
        "        self.x = x\n",
        "        self.y = y\n",
        "\n",
        "    def __add__(self, other):\n",
        "        if isinstance(other, Vector):\n",
        "            return Vector(self.x + other.x, self.y + other.y)\n",
        "        else:\n",
        "            raise TypeError(\"Operands must be instances of Vector\")\n",
        "\n",
        "    def __str__(self):\n",
        "        return f\"Vector({self.x}, {self.y})\"\n",
        "\n",
        "\n",
        "\n",
        "v1 = Vector(2, 3)\n",
        "v2 = Vector(4, 5)\n",
        "result = v1 + v2\n",
        "print(result)"
      ],
      "metadata": {
        "colab": {
          "base_uri": "https://localhost:8080/"
        },
        "id": "oXetzUO6_wcT",
        "outputId": "e80adf59-3827-49e7-8ee4-1773bbb8a965"
      },
      "execution_count": 15,
      "outputs": [
        {
          "output_type": "stream",
          "name": "stdout",
          "text": [
            "Vector(6, 8)\n"
          ]
        }
      ]
    },
    {
      "cell_type": "markdown",
      "source": [
        "11. Create a class Person with attributes name and age. Add a method greet() that prints \"Hello, my name is {name} and I am {age} years old.\""
      ],
      "metadata": {
        "id": "BWjfTr1lACuS"
      }
    },
    {
      "cell_type": "code",
      "source": [
        "class Person:\n",
        "    def __init__(self, name, age):\n",
        "        self.name = name\n",
        "        self.age = age\n",
        "\n",
        "    def greet(self):\n",
        "        print(f\"Hello, my name is {self.name} and I am {self.age} years old.\")\n",
        "\n",
        "\n",
        "person = Person(\"Nikhil\", 40)\n",
        "person.greet()"
      ],
      "metadata": {
        "colab": {
          "base_uri": "https://localhost:8080/"
        },
        "id": "ZjtZJBe9_9tD",
        "outputId": "326feeb4-cce6-4038-90a6-732db9b69025"
      },
      "execution_count": 16,
      "outputs": [
        {
          "output_type": "stream",
          "name": "stdout",
          "text": [
            "Hello, my name is Nikhil and I am 40 years old.\n"
          ]
        }
      ]
    },
    {
      "cell_type": "markdown",
      "source": [
        "12. Implement a class Student with attributes name and grades. Create a method average_grade() to compute the average of the grades"
      ],
      "metadata": {
        "id": "F_AJZh-9APyp"
      }
    },
    {
      "cell_type": "code",
      "source": [
        "class Student:\n",
        "    def __init__(self, name):\n",
        "        self.name = name\n",
        "        self.grades = []\n",
        "\n",
        "    def add_grade(self, grade):\n",
        "        \"\"\"Adds a grade to the student's grade list.\"\"\"\n",
        "        if isinstance(grade, (int, float)):\n",
        "            self.grades.append(grade)\n",
        "        else:\n",
        "            print(\"Invalid input. Grade must be a number.\")\n",
        "\n",
        "    def average_grade(self):\n",
        "        \"\"\"Calculates and returns the average grade.\"\"\"\n",
        "        if not self.grades:\n",
        "            return 0\n",
        "        return sum(self.grades) / len(self.grades)\n",
        "\n",
        "    def __str__(self):\n",
        "        return f\"Student(name={self.name}, grades={self.grades})\"\n",
        "\n",
        "\n",
        "student = Student(\"Alice\")\n",
        "student.add_grade(90)\n",
        "student.add_grade(85)\n",
        "student.add_grade(88)\n",
        "\n",
        "print(student)\n",
        "print(f\"Average Grade: {student.average_grade()}\")"
      ],
      "metadata": {
        "colab": {
          "base_uri": "https://localhost:8080/"
        },
        "id": "pj_tWn7jAMHD",
        "outputId": "c10330b3-6a84-4d21-8f5a-bc527c00b0b7"
      },
      "execution_count": 17,
      "outputs": [
        {
          "output_type": "stream",
          "name": "stdout",
          "text": [
            "Student(name=Alice, grades=[90, 85, 88])\n",
            "Average Grade: 87.66666666666667\n"
          ]
        }
      ]
    },
    {
      "cell_type": "markdown",
      "source": [
        "13. Create a class Rectangle with methods set_dimensions() to set the dimensions and area() to calculate the area"
      ],
      "metadata": {
        "id": "xQ5dgP93Aequ"
      }
    },
    {
      "cell_type": "code",
      "source": [
        "class Rectangle:\n",
        "    def __init__(self, length=1, width=1):\n",
        "        self.length = length\n",
        "        self.width = width\n",
        "\n",
        "    def set_dimensions(self, length, width):\n",
        "        \"\"\"Sets the dimensions of the rectangle.\"\"\"\n",
        "        self.length = length\n",
        "        self.width = width\n",
        "\n",
        "    def area(self):\n",
        "        \"\"\"Calculates and returns the area of the rectangle.\"\"\"\n",
        "        return self.length * self.width\n",
        "\n",
        "rect = Rectangle()\n",
        "print(f\"Initial area: {rect.area()}\")\n",
        "\n",
        "rect.set_dimensions(5, 3)\n",
        "print(f\"Updated area: {rect.area()}\")"
      ],
      "metadata": {
        "colab": {
          "base_uri": "https://localhost:8080/"
        },
        "id": "CxiANzEpAcz2",
        "outputId": "d26ca82d-f142-4038-d85a-455e0f8c2523"
      },
      "execution_count": 18,
      "outputs": [
        {
          "output_type": "stream",
          "name": "stdout",
          "text": [
            "Initial area: 1\n",
            "Updated area: 15\n"
          ]
        }
      ]
    },
    {
      "cell_type": "markdown",
      "source": [
        "14. Create a class Employee with a method calculate_salary() that computes the salary based on hours worked and hourly rate. Create a derived class Manager that adds a bonus to the salary."
      ],
      "metadata": {
        "id": "_s_xFJm-AxP_"
      }
    },
    {
      "cell_type": "code",
      "source": [
        "class Employee:\n",
        "    def __init__(self, name, hours_worked, hourly_rate):\n",
        "        self.name = name\n",
        "        self.hours_worked = hours_worked\n",
        "        self.hourly_rate = hourly_rate\n",
        "\n",
        "    def calculate_salary(self):\n",
        "        \"\"\"Calculates the salary based on hours worked and hourly rate.\"\"\"\n",
        "        return self.hours_worked * self.hourly_rate\n",
        "\n",
        "class Manager(Employee):\n",
        "    def __init__(self, name, hours_worked, hourly_rate, bonus):\n",
        "        super().__init__(name, hours_worked, hourly_rate)\n",
        "        self.bonus = bonus\n",
        "\n",
        "    def calculate_salary(self):\n",
        "        \"\"\"Calculates the salary including the bonus.\"\"\"\n",
        "        base_salary = super().calculate_salary()\n",
        "        return base_salary + self.bonus\n",
        "\n",
        "employee = Employee(\"Alice\", 160, 25)\n",
        "print(f\"Employee Salary: ${employee.calculate_salary()}\")\n",
        "\n",
        "manager = Manager(\"Bob\", 160, 30, 500)\n",
        "print(f\"Manager Salary: ${manager.calculate_salary()}\")\n"
      ],
      "metadata": {
        "colab": {
          "base_uri": "https://localhost:8080/"
        },
        "id": "yPjofelRAuW3",
        "outputId": "75d6fb1e-887e-4e26-97d0-442298cf74f9"
      },
      "execution_count": 19,
      "outputs": [
        {
          "output_type": "stream",
          "name": "stdout",
          "text": [
            "Employee Salary: $4000\n",
            "Manager Salary: $5300\n"
          ]
        }
      ]
    },
    {
      "cell_type": "markdown",
      "source": [
        "15. Create a class Product with attributes name, price, and quantity. Implement a method total_price() that calculates the total price of the product."
      ],
      "metadata": {
        "id": "hCdNU994A8mv"
      }
    },
    {
      "cell_type": "code",
      "source": [
        "class Product:\n",
        "    def __init__(self, name, price, quantity):\n",
        "        self.name = name\n",
        "        self.price = price\n",
        "        self.quantity = quantity\n",
        "\n",
        "    def total_price(self):\n",
        "        \"\"\"Calculates the total price of the product.\"\"\"\n",
        "        return self.price * self.quantity\n",
        "\n",
        "    def __str__(self):\n",
        "        return f\"Product(name={self.name}, price={self.price}, quantity={self.quantity})\"\n",
        "\n",
        "\n",
        "product = Product(\"Laptop\", 1000, 3)\n",
        "print(product)\n",
        "print(f\"Total Price: ${product.total_price()}\")"
      ],
      "metadata": {
        "colab": {
          "base_uri": "https://localhost:8080/"
        },
        "id": "VExUgtnIA56m",
        "outputId": "ff59647e-a9db-42ca-e066-6116ff58fdef"
      },
      "execution_count": 20,
      "outputs": [
        {
          "output_type": "stream",
          "name": "stdout",
          "text": [
            "Product(name=Laptop, price=1000, quantity=3)\n",
            "Total Price: $3000\n"
          ]
        }
      ]
    },
    {
      "cell_type": "markdown",
      "source": [
        "16. Create a class Animal with an abstract method sound(). Create two derived classes Cow and Sheep that implement the sound() method."
      ],
      "metadata": {
        "id": "owcNJs-2BJR7"
      }
    },
    {
      "cell_type": "code",
      "source": [
        "from abc import ABC, abstractmethod\n",
        "\n",
        "class Animal(ABC):\n",
        "    @abstractmethod\n",
        "    def sound(self):\n",
        "        pass\n",
        "\n",
        "class Cow(Animal):\n",
        "    def sound(self):\n",
        "        return \"Moo\"\n",
        "\n",
        "class Sheep(Animal):\n",
        "    def sound(self):\n",
        "        return \"Baa\"\n",
        "\n",
        "animals = [Cow(), Sheep()]\n",
        "\n",
        "for animal in animals:\n",
        "    print(f\"A {animal.__class__.__name__} says: {animal.sound()}\")"
      ],
      "metadata": {
        "colab": {
          "base_uri": "https://localhost:8080/"
        },
        "id": "mL719jyvBIh_",
        "outputId": "cfbe33bd-317b-448e-8e23-4e865aee5f48"
      },
      "execution_count": 21,
      "outputs": [
        {
          "output_type": "stream",
          "name": "stdout",
          "text": [
            "A Cow says: Moo\n",
            "A Sheep says: Baa\n"
          ]
        }
      ]
    },
    {
      "cell_type": "markdown",
      "source": [
        "17. Create a class Book with attributes title, author, and year_published. Add a method get_book_info() that returns a formatted string with the book's details."
      ],
      "metadata": {
        "id": "WZrobEtPBSfY"
      }
    },
    {
      "cell_type": "code",
      "source": [
        "class Book:\n",
        "    def __init__(self, title, author, year_published):\n",
        "        self.title = title\n",
        "        self.author = author\n",
        "        self.year_published = year_published\n",
        "\n",
        "    def get_book_info(self):\n",
        "        \"\"\"Returns a formatted string with the book's details.\"\"\"\n",
        "        return f\"'{self.title}' by {self.author}, published in {self.year_published}\"\n",
        "\n",
        "\n",
        "book = Book(\"Mastering Requirements\", \"Nikhil\", 2010)\n",
        "print(book.get_book_info())\n"
      ],
      "metadata": {
        "colab": {
          "base_uri": "https://localhost:8080/"
        },
        "id": "p7MuVEh3BRvk",
        "outputId": "95231e04-cc8d-4a22-ecff-5732d2085188"
      },
      "execution_count": 23,
      "outputs": [
        {
          "output_type": "stream",
          "name": "stdout",
          "text": [
            "'Mastering Requirements' by Nikhil, published in 2010\n"
          ]
        }
      ]
    },
    {
      "cell_type": "markdown",
      "source": [
        "18. Create a class House with attributes address and price. Create a derived class Mansion that adds an attribute number_of_rooms."
      ],
      "metadata": {
        "id": "mx2E9JVjBcdy"
      }
    },
    {
      "cell_type": "code",
      "source": [
        "class House:\n",
        "    def __init__(self, address, price):\n",
        "        self.address = address\n",
        "        self.price = price\n",
        "\n",
        "    def get_details(self):\n",
        "        return f\"House located at {self.address} priced at INR {self.price}\"\n",
        "\n",
        "class Mansion(House):\n",
        "    def __init__(self, address, price, number_of_rooms):\n",
        "        super().__init__(address, price)\n",
        "        self.number_of_rooms = number_of_rooms\n",
        "\n",
        "    def get_details(self):\n",
        "        base_details = super().get_details()\n",
        "        return f\"{base_details}, with {self.number_of_rooms} rooms\"\n",
        "\n",
        "house = House(\"MG Road\", 25000000)\n",
        "print(house.get_details())\n",
        "\n",
        "mansion = Mansion(\"SP Road\", 1500000000, 12)\n",
        "print(mansion.get_details())"
      ],
      "metadata": {
        "colab": {
          "base_uri": "https://localhost:8080/"
        },
        "id": "1rJcJQFkBaQO",
        "outputId": "e963e4c6-64ed-4464-dffe-24bfeae29607"
      },
      "execution_count": 27,
      "outputs": [
        {
          "output_type": "stream",
          "name": "stdout",
          "text": [
            "House located at MG Road priced at INR 25000000\n",
            "House located at SP Road priced at INR 1500000000, with 12 rooms\n"
          ]
        }
      ]
    },
    {
      "cell_type": "code",
      "source": [],
      "metadata": {
        "id": "1GePM62XByiY"
      },
      "execution_count": null,
      "outputs": []
    }
  ]
}